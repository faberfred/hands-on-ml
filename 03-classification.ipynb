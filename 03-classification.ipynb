{
 "cells": [
  {
   "cell_type": "markdown",
   "metadata": {},
   "source": [
    "# Step by step ML guide - classification\n",
    "Analog to the and inspired by the fantastic book [`Hands-On Machine Learning with Scikit-Learn, Keras, and TensorFlow, 2nd Edition`](https://www.oreilly.com/library/view/hands-on-machine-learning/9781492032632/) by Aurélien Géron!\n",
    "* This jupyter notebook is based on `Chapter 3 – Classification` of the above mentioned book. The original jupyter notebook can be found [`here`](https://github.com/ageron/handson-ml2)."
   ]
  },
  {
   "cell_type": "markdown",
   "metadata": {},
   "source": [
    "## Scikit-Learn & Python\n",
    "This notebook is done with **scikit-learn version 0.21.3** and **Python 3.7.5**. See also the [`API Reference`](https://scikit-learn.org/stable/modules/classes.html) of scikit-learn."
   ]
  },
  {
   "cell_type": "markdown",
   "metadata": {},
   "source": [
    "## Setup"
   ]
  },
  {
   "cell_type": "markdown",
   "metadata": {},
   "source": [
    "#### Use operating system dependent functionality\n",
    "[`os`](https://docs.python.org/3/library/os.html) provides a portable way of using operating system dependent functionality"
   ]
  },
  {
   "cell_type": "code",
   "execution_count": 2,
   "metadata": {},
   "outputs": [],
   "source": [
    "import os"
   ]
  },
  {
   "cell_type": "markdown",
   "metadata": {},
   "source": [
    "[`numpy`](http://www.numpy.org/) is the fundamental package for scientific computing with Python.\n",
    "<br>\n",
    "[`pandas`](https://pandas.pydata.org/pandas-docs/stable/#module-pandas) providing high-performance, easy-to-use data structures and data analysis tools."
   ]
  },
  {
   "cell_type": "code",
   "execution_count": 3,
   "metadata": {},
   "outputs": [],
   "source": [
    "import numpy as np\n",
    "import pandas as pd"
   ]
  },
  {
   "cell_type": "markdown",
   "metadata": {},
   "source": [
    "#### Ploting figures\n",
    "[`matplotlib`](https://matplotlib.org/) for plotting functions - use `%matplotlib inline` to plot the figures inline (inside the notebook)"
   ]
  },
  {
   "cell_type": "code",
   "execution_count": 4,
   "metadata": {},
   "outputs": [],
   "source": [
    "%matplotlib inline\n",
    "import matplotlib as mpl\n",
    "import matplotlib.pyplot as plt"
   ]
  },
  {
   "cell_type": "code",
   "execution_count": null,
   "metadata": {},
   "outputs": [],
   "source": []
  }
 ],
 "metadata": {
  "kernelspec": {
   "display_name": "Python 3",
   "language": "python",
   "name": "python3"
  },
  "language_info": {
   "codemirror_mode": {
    "name": "ipython",
    "version": 3
   },
   "file_extension": ".py",
   "mimetype": "text/x-python",
   "name": "python",
   "nbconvert_exporter": "python",
   "pygments_lexer": "ipython3",
   "version": "3.7.5"
  }
 },
 "nbformat": 4,
 "nbformat_minor": 2
}
