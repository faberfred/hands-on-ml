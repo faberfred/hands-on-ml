{
 "cells": [
  {
   "cell_type": "markdown",
   "metadata": {},
   "source": [
    "# Step by step ML guide - introduction to ANN with Keras\n",
    "Analog to and inspired by the fantastic book [`Hands-On Machine Learning with Scikit-Learn, Keras, and TensorFlow, 2nd Edition`](https://www.oreilly.com/library/view/hands-on-machine-learning/9781492032632/) by Aurélien Géron!\n",
    "* This jupyter notebook is based on the `Chapter 10 – Introduction to ANN with Keras` of the above mentioned book. The original jupyter notebook can be found [`here`](https://github.com/ageron/handson-ml2)."
   ]
  },
  {
   "cell_type": "markdown",
   "metadata": {},
   "source": [
    "### Perceptrons\n",
    "A perceptron is based on a *threshold logic unit (TLU)*. A TLU has at least one input and exactly one output.\n",
    "<br><br>\n",
    "\"The inputs and outputs are numbers, and each input connection is associated with a weight.\" The weights are very important and are used to train / teach the network.\n",
    "<br><br>\n",
    "The TLU computes a weighted sum of its inputs ($z = w_1*x_1 + w_2*x_2 + ... + w_n*x_n = x^T * w$). Then it applies a *step function* to that sum and outputs the result: $h_w (x) = step (x^T * w)$. $h$ stands for  hypothesis or prediction.\n",
    "<br><br>\n",
    "The output of a fully connected layer network is calculated by:\n",
    "<br>\n",
    "$$h_\\boldsymbol{W,b} (\\boldsymbol X) = \\phi(\\boldsymbol X * \\boldsymbol W + \\boldsymbol b)$$\n",
    "<br>\n",
    "The perceptron learning is done by updating the weights in the following way:\n",
    "<br><br>\n",
    "$$w_{ij}\\,^{(next step)} = w_{ij} + \\eta(y_j - \\hat{y}_j)x_i$$\n",
    "<br>"
   ]
  },
  {
   "cell_type": "code",
   "execution_count": 3,
   "metadata": {},
   "outputs": [
    {
     "data": {
      "text/plain": [
       "array([0])"
      ]
     },
     "execution_count": 3,
     "metadata": {},
     "output_type": "execute_result"
    }
   ],
   "source": [
    "import numpy as np\n",
    "from sklearn.datasets import load_iris\n",
    "from sklearn.linear_model import Perceptron\n",
    "\n",
    "iris = load_iris()\n",
    "X = iris.data[:, (2,3)] # petal length, petal width\n",
    "y = (iris.target == 0).astype(np.int) # Iris setosa\n",
    "\n",
    "perc_clf = Perceptron()\n",
    "perc_clf.fit(X, y)\n",
    "\n",
    "y_pred = perc_clf.predict([[2, 0.5]])\n",
    "y_pred"
   ]
  },
  {
   "cell_type": "code",
   "execution_count": null,
   "metadata": {},
   "outputs": [],
   "source": []
  }
 ],
 "metadata": {
  "kernelspec": {
   "display_name": "Python 3",
   "language": "python",
   "name": "python3"
  },
  "language_info": {
   "codemirror_mode": {
    "name": "ipython",
    "version": 3
   },
   "file_extension": ".py",
   "mimetype": "text/x-python",
   "name": "python",
   "nbconvert_exporter": "python",
   "pygments_lexer": "ipython3",
   "version": "3.7.5"
  }
 },
 "nbformat": 4,
 "nbformat_minor": 2
}
