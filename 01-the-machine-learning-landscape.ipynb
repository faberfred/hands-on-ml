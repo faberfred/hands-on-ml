{
 "cells": [
  {
   "cell_type": "markdown",
   "metadata": {},
   "source": [
    "## Chapter 1 of Aurélien Gérons Hands-on Machine learning book (end edition)"
   ]
  },
  {
   "cell_type": "markdown",
   "metadata": {},
   "source": [
    "### Answer to the exercise questions"
   ]
  },
  {
   "cell_type": "markdown",
   "metadata": {},
   "source": [
    "#### 1. How would you define machine learning?\n",
    "Machine learning is a technique of improving the performance of a task done be a computer without explicitly programming this performance gain. The computer (programs) uses machine learning algorithms to generate models by finding patterns within data.  "
   ]
  },
  {
   "cell_type": "markdown",
   "metadata": {},
   "source": [
    "#### 2. Can you name four types of problems where it shines?\n",
    "1. Machine learning is preferable for very complex problems. (Pattern recognition in images)\n",
    "2. It is preferable for problems that require otherwise long list of rules or complex fine-tuning (spam filters)\n",
    "3. Alternating / fluctuating input to which a machine learning system can react. (Online learning systems with a continuous input)\n",
    "4. Generating insights into large amount of data and complex problems."
   ]
  },
  {
   "cell_type": "markdown",
   "metadata": {},
   "source": [
    "#### 3. What is a labeled training set?\n",
    "A labeled training set is a set of labeled training elements. All elements within this training set have labels."
   ]
  },
  {
   "cell_type": "markdown",
   "metadata": {},
   "source": [
    "#### 4. What are the two most common supervised tasks?\n",
    "1. Classification\n",
    "2. Regression"
   ]
  },
  {
   "cell_type": "markdown",
   "metadata": {},
   "source": [
    "#### 5. Can you name four unsupervised tasks?\n",
    "1. Clustering\n",
    "2. Anomaly detection\n",
    "3. Visualization and dimensionality reduction\n",
    "4. *Associated rule learning*"
   ]
  },
  {
   "cell_type": "markdown",
   "metadata": {},
   "source": [
    "#### 6. What type of ML algorithm would you use to allow a robot to walk in various unknown terrains?\n",
    "Reinforcement learning"
   ]
  },
  {
   "cell_type": "markdown",
   "metadata": {},
   "source": [
    "#### 7. What kind of algorithm would you use to segment your customers into multiple groups?\n",
    "*K-nearest neighbors*"
   ]
  },
  {
   "cell_type": "markdown",
   "metadata": {},
   "source": [
    "#### 8. Would you frame the problem of spam detection as an supervised or an unsupervised learning problem?\n",
    "supervised learning problem"
   ]
  },
  {
   "cell_type": "markdown",
   "metadata": {},
   "source": [
    "#### 9. What is an online learning system?\n",
    "An online learning system is a system with a continuous input flow of data from which the learning system can improve an continue to learn. "
   ]
  },
  {
   "cell_type": "markdown",
   "metadata": {},
   "source": [
    "#### 10. What is out-of-core learning?\n",
    "It's the use of the online  learning algorithms for huge datasets, that do not fit into the memory of the computer. Therefore the date is split into small pieces which can be trained one after the other by the algorithm. After the training the data will be discarded.  "
   ]
  },
  {
   "cell_type": "markdown",
   "metadata": {},
   "source": [
    "#### 11. What type of learning algorithm relies on a similarity measure to make predictions?\n",
    "Instance based learning algorithms"
   ]
  },
  {
   "cell_type": "markdown",
   "metadata": {},
   "source": [
    "#### 12. What is the difference between a model parameter and a learning algorithm's hyperparameter?\n",
    "Model parameter are **parameter of the model** and they are used to predict new unseen instances. In a linear model $\\theta_0$ and $\\theta_1$ are the parameter of the model.\n",
    "On the other hand hyperparameter are the parameter of the algorithm (the actual instances of the parameter) which are used to best fit the model to the training data."
   ]
  },
  {
   "cell_type": "markdown",
   "metadata": {},
   "source": [
    "#### 13. a) What do model-based learning algorithms search for?\n",
    "They search for the best values for the model parameters such that the model will generalize well on new unseen data.\n",
    "#### 13. b) What is the most common strategy they use to succeed?\n",
    "The most common strategy is to minimize the cost function during training the model and to penalize complex algorithms.\n",
    "#### 13. c) How do they make predictions?\n",
    "They make predictions by applying the model parameters to the new data instances. "
   ]
  },
  {
   "cell_type": "markdown",
   "metadata": {},
   "source": [
    "#### 14. Can you name four of the main challenges in ML?\n",
    "1. The date is in a bad condition.\n",
    "2. There is not enough data.\n",
    "3. underfitting\n",
    "4. overfitting"
   ]
  },
  {
   "cell_type": "markdown",
   "metadata": {},
   "source": [
    "#### 15. a) If your model performs great on the training data but generalizes poorly to new instances, what is happening?\n",
    "The model is overfitting the training data.\n",
    "#### 15. b) Can you name three possible solutions?\n",
    "1. Reduce the complexity of the model (use a linear instead of a polynomial model)\n",
    "2. Increase the training data\n",
    "3. Reduce the noise in the training data (data preprocessing)"
   ]
  },
  {
   "cell_type": "markdown",
   "metadata": {},
   "source": [
    "#### 16. What is a test set, and why would you want to use it?\n",
    "A test set is a set of data points which is taken out of the original set of data points. It is used to evaluate the generalization error of the trained model on unseen data."
   ]
  },
  {
   "cell_type": "markdown",
   "metadata": {},
   "source": [
    "#### 17. What is the purpose of a validation set?\n",
    "A validation set is a set of points taken from the training data set. It is used to validate different models (the same model with different hyper parameter settings). The best model is taken and trained on the whole training set and than tested on the test set. "
   ]
  },
  {
   "cell_type": "markdown",
   "metadata": {},
   "source": [
    "#### 18. What is the train-dev set, when do you need it, and how do you use it.\n",
    "The train-dev set is used in case that there can be a mismatch between the training set on the one hand and the validation and test set on the other hand, because the data for training on the one hand and validation and testing on the other hand is taken from different sources.\n",
    "<br>\n",
    "This comes into play, if you get very good results on the training set but very bad results on the validation & test sets.\n",
    "<br>\n",
    "The train-dev set is a set of data points taken out of the training set which are not used for training. \n",
    "<br>\n",
    "After training the model it is used on the train-dev set.\n",
    "* If it performs bad on the train-dev set, than the model overfits the training data.\n",
    "* If it performs well on the train-dev set, than there is a mismatch between the training data and the validation & test data. And further work has to be done on the sets."
   ]
  },
  {
   "cell_type": "markdown",
   "metadata": {},
   "source": [
    "#### 19. What can go wrong if you tune hyperparameters using the test set?\n",
    "By using the test set for hyperparameters tuning the model will generate very good results on the test data set but can generalize very bad on unseen data. "
   ]
  }
 ],
 "metadata": {
  "kernelspec": {
   "display_name": "Python 3",
   "language": "python",
   "name": "python3"
  },
  "language_info": {
   "codemirror_mode": {
    "name": "ipython",
    "version": 3
   },
   "file_extension": ".py",
   "mimetype": "text/x-python",
   "name": "python",
   "nbconvert_exporter": "python",
   "pygments_lexer": "ipython3",
   "version": "3.6.12"
  }
 },
 "nbformat": 4,
 "nbformat_minor": 2
}
